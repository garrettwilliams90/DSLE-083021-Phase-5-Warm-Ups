{
 "cells": [
  {
   "cell_type": "markdown",
   "metadata": {},
   "source": [
    "# In-Flight Movies\n",
    "\n",
    "Given a list of movie lengths (in minutes: int) and a flight time (int), return a boolean if there are **two** movies that can be played back-to-back to equal the length of the flight.\n",
    "\n",
    "#### Example :\n",
    "\n",
    "`movies = [120, 80, 50, 90]`\n",
    "\n",
    "`flight = 200`\n",
    "\n",
    "> True (120 + 80 = 200)\n",
    "\n",
    "#### Constraints\n",
    "\n",
    "- Each movie in the list can be counted only once (you cannot watch the same movie twice)\n",
    "- The length of the list of movies >= 2\n",
    "- The length of the flight > 0"
   ]
  },
  {
   "cell_type": "code",
   "execution_count": 1,
   "metadata": {},
   "outputs": [],
   "source": [
    "movies = [120, 80, 50, 90]\n",
    "flight = 200"
   ]
  },
  {
   "cell_type": "code",
   "execution_count": 24,
   "metadata": {},
   "outputs": [],
   "source": [
    "#My Solution; It works\n",
    "def find_inflight_movie_pair(flight_time, movies_lengths):\n",
    "    #Iterate through all movies\n",
    "    for i in range(len(movies_lengths)):\n",
    "        #Iterate through every following movie\n",
    "        for j in range(i+1,len(movies_lengths)):\n",
    "            #Add movies together and check if they equal flight time\n",
    "            if movies_lengths[i] + movies_lengths[j] == flight_time:\n",
    "                #Return True if they do\n",
    "                return True\n",
    "    #Otherwise, return false\n",
    "    return False\n",
    "                "
   ]
  },
  {
   "cell_type": "code",
   "execution_count": null,
   "metadata": {},
   "outputs": [],
   "source": [
    "#Matthew's Solution\n",
    "def find_inflight_movie_pair(flight_time, movies_lengths):\n",
    "    import itertools #importing tools might not be allowed in technical interviews or take-home code\n",
    "    pairs = list(itertools.combinations(movie_lengths, 2))\n",
    "    for pair in pairs:\n",
    "        if sum(pair) == flight_time:\n",
    "            return True\n",
    "    return False"
   ]
  },
  {
   "cell_type": "code",
   "execution_count": 35,
   "metadata": {},
   "outputs": [],
   "source": [
    "#Lindsey's Solution\n",
    "def find_inflight_movie_pair(flight_time, movies_lengths):\n",
    "    for movie in movies_lengths:\n",
    "        leftover_time = flight_time - movie\n",
    "        remaining_movies = movies.copy()\n",
    "        remaining_movies.remove(movie)\n",
    "        if leftover_time in remaining_movies:\n",
    "            return True\n",
    "    return False"
   ]
  },
  {
   "cell_type": "code",
   "execution_count": 36,
   "metadata": {},
   "outputs": [
    {
     "name": "stdout",
     "output_type": "stream",
     "text": [
      "[80, 50, 90]\n",
      "True\n",
      "[120, 50, 90]\n",
      "True\n",
      "[120, 80, 90]\n",
      "[120, 80, 50]\n"
     ]
    }
   ],
   "source": [
    "find_inflight_movie_pair(flight, movies)"
   ]
  },
  {
   "cell_type": "markdown",
   "metadata": {},
   "source": [
    "#### Tests"
   ]
  },
  {
   "cell_type": "code",
   "execution_count": 26,
   "metadata": {},
   "outputs": [],
   "source": [
    "movies_test1 = [80, 40, 40, 100, 130]\n",
    "\n",
    "flight_test1 = 160"
   ]
  },
  {
   "cell_type": "code",
   "execution_count": 27,
   "metadata": {},
   "outputs": [
    {
     "data": {
      "text/plain": [
       "False"
      ]
     },
     "execution_count": 27,
     "metadata": {},
     "output_type": "execute_result"
    }
   ],
   "source": [
    "find_inflight_movie_pair(flight_test1, movies_test1)"
   ]
  },
  {
   "cell_type": "code",
   "execution_count": 28,
   "metadata": {},
   "outputs": [],
   "source": [
    "movies_test2 = [80, 90, 100, 35, 145, 80]\n",
    "\n",
    "flight_test2 = 160"
   ]
  },
  {
   "cell_type": "code",
   "execution_count": 29,
   "metadata": {},
   "outputs": [
    {
     "name": "stdout",
     "output_type": "stream",
     "text": [
      "80\n",
      "80\n"
     ]
    },
    {
     "data": {
      "text/plain": [
       "True"
      ]
     },
     "execution_count": 29,
     "metadata": {},
     "output_type": "execute_result"
    }
   ],
   "source": [
    "find_inflight_movie_pair(flight_test2, movies_test2)"
   ]
  },
  {
   "cell_type": "code",
   "execution_count": 30,
   "metadata": {},
   "outputs": [],
   "source": [
    "movies_test3 = [40, 50]\n",
    "\n",
    "flight_test3 = 50"
   ]
  },
  {
   "cell_type": "code",
   "execution_count": 31,
   "metadata": {},
   "outputs": [
    {
     "data": {
      "text/plain": [
       "False"
      ]
     },
     "execution_count": 31,
     "metadata": {},
     "output_type": "execute_result"
    }
   ],
   "source": [
    "find_inflight_movie_pair(flight_test3, movies_test3)"
   ]
  },
  {
   "cell_type": "code",
   "execution_count": null,
   "metadata": {},
   "outputs": [],
   "source": []
  }
 ],
 "metadata": {
  "kernelspec": {
   "display_name": "Python (learn-env)",
   "language": "python",
   "name": "learn-env"
  },
  "language_info": {
   "codemirror_mode": {
    "name": "ipython",
    "version": 3
   },
   "file_extension": ".py",
   "mimetype": "text/x-python",
   "name": "python",
   "nbconvert_exporter": "python",
   "pygments_lexer": "ipython3",
   "version": "3.8.5"
  }
 },
 "nbformat": 4,
 "nbformat_minor": 4
}
