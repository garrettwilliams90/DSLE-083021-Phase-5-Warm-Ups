{
 "cells": [
  {
   "cell_type": "markdown",
   "metadata": {},
   "source": [
    "# Negative Numbers in a Matrix\n",
    "\n",
    "Given a matrix of shape (m, n) which is sorted in non-increasing order (both rows & columns), return the number of negative numbers in the matrix.\n",
    "\n",
    "#### Example:\n",
    "\n",
    "`matrix = [[1, -1], [-1, -1]]`\n",
    "\n",
    "> 3\n",
    "\n",
    "#### Constraints\n",
    "\n",
    "The matrix will be at least shape (1, 1) \n",
    "eg: [[-5]]"
   ]
  },
  {
   "cell_type": "code",
   "execution_count": 1,
   "metadata": {},
   "outputs": [],
   "source": [
    "sample_matrix = [[1, -1], [-1, -1]]"
   ]
  },
  {
   "cell_type": "code",
   "execution_count": 2,
   "metadata": {},
   "outputs": [],
   "source": [
    "#My Solution\n",
    "def count_negatives(matrix):\n",
    "    negatives_list = [i for row in matrix for i in row if i < 0]\n",
    "    return len(negatives_list)"
   ]
  },
  {
   "cell_type": "code",
   "execution_count": 3,
   "metadata": {},
   "outputs": [],
   "source": [
    "# Another Solution\n",
    "def count_negatives(matrix):\n",
    "    count = 0\n",
    "    for row in matrix:\n",
    "        for num in row:\n",
    "            if num < 0:\n",
    "                count += 1\n",
    "    return count"
   ]
  },
  {
   "cell_type": "code",
   "execution_count": 4,
   "metadata": {},
   "outputs": [],
   "source": [
    "# Andrew's Solution, optimized for non-increasing order\n",
    "def count_negatives(matrix):\n",
    "    count = 0\n",
    "    for row in matrix[::-1]:\n",
    "        row_count = 0\n",
    "        for num in row[::-1]:\n",
    "#             print(num) #uncomment to see where the loops break\n",
    "            if num < 0:\n",
    "                count += 1\n",
    "                row_count += 1\n",
    "            else:\n",
    "                break #stop checking columns in row once a positive number is found\n",
    "        if row_count == 0:\n",
    "            break #stop checking entirely if the first col of a row contains a positive number\n",
    "\n",
    "    return count"
   ]
  },
  {
   "cell_type": "code",
   "execution_count": 5,
   "metadata": {},
   "outputs": [
    {
     "data": {
      "text/plain": [
       "3"
      ]
     },
     "execution_count": 5,
     "metadata": {},
     "output_type": "execute_result"
    }
   ],
   "source": [
    "count_negatives(sample_matrix)"
   ]
  },
  {
   "cell_type": "markdown",
   "metadata": {},
   "source": [
    "#### Tests"
   ]
  },
  {
   "cell_type": "code",
   "execution_count": 6,
   "metadata": {},
   "outputs": [],
   "source": [
    "matrix_test1 = [[4, 3, 2, -1], [3, 2, 1, -1], [1, 1, -1, -2], [-1, -1, -2, -3]]"
   ]
  },
  {
   "cell_type": "code",
   "execution_count": 7,
   "metadata": {},
   "outputs": [
    {
     "data": {
      "text/plain": [
       "8"
      ]
     },
     "execution_count": 7,
     "metadata": {},
     "output_type": "execute_result"
    }
   ],
   "source": [
    "count_negatives(matrix_test1)"
   ]
  },
  {
   "cell_type": "code",
   "execution_count": 8,
   "metadata": {},
   "outputs": [],
   "source": [
    "matrix_test2 = [[3, 2], [1, 0]]"
   ]
  },
  {
   "cell_type": "code",
   "execution_count": 9,
   "metadata": {
    "scrolled": true
   },
   "outputs": [
    {
     "data": {
      "text/plain": [
       "0"
      ]
     },
     "execution_count": 9,
     "metadata": {},
     "output_type": "execute_result"
    }
   ],
   "source": [
    "count_negatives(matrix_test2)"
   ]
  },
  {
   "cell_type": "code",
   "execution_count": 10,
   "metadata": {},
   "outputs": [],
   "source": [
    "matrix_test3 = [[-5]]"
   ]
  },
  {
   "cell_type": "code",
   "execution_count": 11,
   "metadata": {},
   "outputs": [
    {
     "data": {
      "text/plain": [
       "1"
      ]
     },
     "execution_count": 11,
     "metadata": {},
     "output_type": "execute_result"
    }
   ],
   "source": [
    "count_negatives(matrix_test3)"
   ]
  },
  {
   "cell_type": "code",
   "execution_count": null,
   "metadata": {},
   "outputs": [],
   "source": []
  }
 ],
 "metadata": {
  "kernelspec": {
   "display_name": "Python (learn-env)",
   "language": "python",
   "name": "learn-env"
  },
  "language_info": {
   "codemirror_mode": {
    "name": "ipython",
    "version": 3
   },
   "file_extension": ".py",
   "mimetype": "text/x-python",
   "name": "python",
   "nbconvert_exporter": "python",
   "pygments_lexer": "ipython3",
   "version": "3.8.5"
  }
 },
 "nbformat": 4,
 "nbformat_minor": 4
}
