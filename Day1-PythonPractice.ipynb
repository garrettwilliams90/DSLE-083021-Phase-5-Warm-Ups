{
 "cells": [
  {
   "cell_type": "markdown",
   "metadata": {},
   "source": [
    "# Sorting a Sentence\n",
    "\n",
    "Given a shuffled sentence `s` with numerical indices attached to words, return the original sentence.\n",
    "\n",
    "#### Example:\n",
    "\n",
    "`s = 'golf4 playing3 love2 I1'`\n",
    "\n",
    "> 'I love playing golf'\n",
    "\n",
    "#### Constraints\n",
    "- `s` consists of at least one word and at maximum 9 words.\n",
    "- The words in `s` are separated by a single space."
   ]
  },
  {
   "cell_type": "code",
   "execution_count": 1,
   "metadata": {},
   "outputs": [],
   "source": [
    "s = 'golf4 playing3 love2 I1'"
   ]
  },
  {
   "cell_type": "code",
   "execution_count": 2,
   "metadata": {},
   "outputs": [],
   "source": [
    "#My solution but it's inefficient\n",
    "def rebuild_sentance(s):\n",
    "    words = s.split()\n",
    "    reordered = []\n",
    "    for n in range(len(words)):\n",
    "        for word in words:\n",
    "            if int(word[-1]) == (n+1):\n",
    "                reordered.append(word[0:-1])\n",
    "    sentence = \" \".join(reordered)\n",
    "    return sentence"
   ]
  },
  {
   "cell_type": "code",
   "execution_count": 3,
   "metadata": {},
   "outputs": [],
   "source": [
    "#LINDSEY'S SOLUTION\n",
    "def lindeys_rebuild_sentance(s):\n",
    "    '''\n",
    "    Takes in a jumbled sentence, where the numeric index is the last character, and returns the unjumbled sentence\n",
    "    \n",
    "    Input:\n",
    "    s: str, jumbled string, with numbered indices attached to words at the end\n",
    "    \n",
    "    Output:\n",
    "    sentence: str, unjumbled string, without numbers\n",
    "    '''\n",
    "    #Long Version\n",
    "    words = s.split()\n",
    "    num_dict = {}\n",
    "    for w in words:\n",
    "        key = int(w[-1])\n",
    "        value = w[:-1]\n",
    "        num_dict[key] = value\n",
    "    sorted_sent = []\n",
    "    for key in sorted(num_dict.keys()):\n",
    "        sorted_sent.append(num_dict[key])   \n",
    "    sorted_sent = ' '.join(sorted_sent)\n",
    "    \n",
    "    #Short version\n",
    "    print({int(w[-1]):w[:-1] for w in s.split()})\n",
    "    print([num_dict[key] for key in sorted(num_dict.keys())])\n",
    "    \n",
    "    return sorted_sent"
   ]
  },
  {
   "cell_type": "code",
   "execution_count": null,
   "metadata": {},
   "outputs": [],
   "source": [
    "#     #Andrew's Solution\n",
    "#     split_list = s.split()\n",
    "#     sorted_split_list = sorted(split_list, key = lambda x: x[-1])\n",
    "#     no_num_list = [word[:-1] for word in sorted_split_list]\n",
    "#     sentence = ' '.join(no_num_list)"
   ]
  },
  {
   "cell_type": "code",
   "execution_count": 4,
   "metadata": {
    "scrolled": true
   },
   "outputs": [
    {
     "data": {
      "text/plain": [
       "'I love playing golf'"
      ]
     },
     "execution_count": 4,
     "metadata": {},
     "output_type": "execute_result"
    }
   ],
   "source": [
    "rebuild_sentance(s)"
   ]
  },
  {
   "cell_type": "code",
   "execution_count": 5,
   "metadata": {},
   "outputs": [
    {
     "name": "stdout",
     "output_type": "stream",
     "text": [
      "{4: 'golf', 3: 'playing', 2: 'love', 1: 'I'}\n",
      "['I', 'love', 'playing', 'golf']\n"
     ]
    },
    {
     "data": {
      "text/plain": [
       "'I love playing golf'"
      ]
     },
     "execution_count": 5,
     "metadata": {},
     "output_type": "execute_result"
    }
   ],
   "source": [
    "#Lindsey's Solution:\n",
    "lindeys_rebuild_sentance(s)"
   ]
  },
  {
   "cell_type": "markdown",
   "metadata": {},
   "source": [
    "#### Tests"
   ]
  },
  {
   "cell_type": "code",
   "execution_count": 6,
   "metadata": {},
   "outputs": [],
   "source": [
    "s_test1 = 'is4 data2 Doing1 best6 the5 science3'"
   ]
  },
  {
   "cell_type": "code",
   "execution_count": 7,
   "metadata": {},
   "outputs": [
    {
     "data": {
      "text/plain": [
       "'Doing data science is the best'"
      ]
     },
     "execution_count": 7,
     "metadata": {},
     "output_type": "execute_result"
    }
   ],
   "source": [
    "rebuild_sentance(s_test1)"
   ]
  },
  {
   "cell_type": "code",
   "execution_count": 8,
   "metadata": {},
   "outputs": [
    {
     "name": "stdout",
     "output_type": "stream",
     "text": [
      "{4: 'is', 2: 'data', 1: 'Doing', 6: 'best', 5: 'the', 3: 'science'}\n",
      "['Doing', 'data', 'science', 'is', 'the', 'best']\n"
     ]
    },
    {
     "data": {
      "text/plain": [
       "'Doing data science is the best'"
      ]
     },
     "execution_count": 8,
     "metadata": {},
     "output_type": "execute_result"
    }
   ],
   "source": [
    "#Lindsey's Solution:\n",
    "lindeys_rebuild_sentance(s_test1)"
   ]
  },
  {
   "cell_type": "code",
   "execution_count": 9,
   "metadata": {},
   "outputs": [],
   "source": [
    "s_test2 = 'out9 long5 to7 is2 a3 try8 really4 This1 sentence6'"
   ]
  },
  {
   "cell_type": "code",
   "execution_count": 10,
   "metadata": {},
   "outputs": [
    {
     "data": {
      "text/plain": [
       "'This is a really long sentence to try out'"
      ]
     },
     "execution_count": 10,
     "metadata": {},
     "output_type": "execute_result"
    }
   ],
   "source": [
    "rebuild_sentance(s_test2)"
   ]
  },
  {
   "cell_type": "code",
   "execution_count": 11,
   "metadata": {},
   "outputs": [
    {
     "name": "stdout",
     "output_type": "stream",
     "text": [
      "{9: 'out', 5: 'long', 7: 'to', 2: 'is', 3: 'a', 8: 'try', 4: 'really', 1: 'This', 6: 'sentence'}\n",
      "['This', 'is', 'a', 'really', 'long', 'sentence', 'to', 'try', 'out']\n"
     ]
    },
    {
     "data": {
      "text/plain": [
       "'This is a really long sentence to try out'"
      ]
     },
     "execution_count": 11,
     "metadata": {},
     "output_type": "execute_result"
    }
   ],
   "source": [
    "#Lindsey's Solution:\n",
    "lindeys_rebuild_sentance(s_test2)"
   ]
  },
  {
   "cell_type": "code",
   "execution_count": null,
   "metadata": {},
   "outputs": [],
   "source": []
  }
 ],
 "metadata": {
  "kernelspec": {
   "display_name": "Python (learn-env)",
   "language": "python",
   "name": "learn-env"
  },
  "language_info": {
   "codemirror_mode": {
    "name": "ipython",
    "version": 3
   },
   "file_extension": ".py",
   "mimetype": "text/x-python",
   "name": "python",
   "nbconvert_exporter": "python",
   "pygments_lexer": "ipython3",
   "version": "3.8.5"
  }
 },
 "nbformat": 4,
 "nbformat_minor": 4
}
